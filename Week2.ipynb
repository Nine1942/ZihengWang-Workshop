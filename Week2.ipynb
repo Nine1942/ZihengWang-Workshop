{
 "cells": [
  {
   "cell_type": "code",
   "execution_count": 25,
   "metadata": {
    "tags": [
     "Exercise 1"
    ]
   },
   "outputs": [
    {
     "name": "stdout",
     "output_type": "stream",
     "text": [
      "Current node: A,Path: ['A']\n",
      "Current node: B,Path: ['A', 'B']\n",
      "Current node: E,Path: ['A', 'E']\n",
      "Current node: C,Path: ['A', 'B', 'C']\n",
      "Current node: D,Path: ['A', 'B', 'D']\n",
      "Current node: F,Path: ['A', 'E', 'F']\n",
      "Path found: ['A', 'E', 'F']\n"
     ]
    }
   ],
   "source": [
    "graph = {\n",
    "    'A': ['B','E'],\n",
    "    'B': ['C','D'],\n",
    "    'C': ['C'],\n",
    "    'D': ['D'],\n",
    "    'E': ['F','G'],\n",
    "    'F': ['F'],\n",
    "    'G': ['G'],\n",
    "}\n",
    "\n",
    "def bfs(graph,start,goal):\n",
    "    visited = []\n",
    "    queue = [(start,[])]\n",
    "\n",
    "    while queue:\n",
    "        node,path = queue.pop(0)\n",
    "        print(f\"Current node: {node},Path: {path + [node]}\")\n",
    "\n",
    "        if node == goal: return path + [node]\n",
    "\n",
    "        if node not in visited: visited.append(node)\n",
    "\n",
    "        for neighbour in graph[node]:\n",
    "            queue.append((neighbour,path + [node]))\n",
    "\n",
    "    print(\"Goal not found\")\n",
    "    return None\n",
    "\n",
    "start_node = 'A'\n",
    "goal_node = 'F'\n",
    "result = bfs(graph,start_node,goal_node)\n",
    "if result:\n",
    "    print(\"Path found:\",result)\n",
    "else:\n",
    "    print(\"No path found.\")"
   ]
  },
  {
   "cell_type": "code",
   "execution_count": 5,
   "metadata": {
    "tags": [
     "Exercise 2"
    ]
   },
   "outputs": [
    {
     "name": "stdout",
     "output_type": "stream",
     "text": [
      "Current node: A,Path: ['A']\n",
      "Current node: B,Path: ['A', 'B']\n",
      "Current node: E,Path: ['A', 'E']\n",
      "Current node: C,Path: ['A', 'B', 'C']\n",
      "Current node: D,Path: ['A', 'B', 'D']\n",
      "Current node: F,Path: ['A', 'E', 'F']\n",
      "Current node: G,Path: ['A', 'E', 'G']\n",
      "Path found: ['A', 'E', 'G']\n"
     ]
    }
   ],
   "source": [
    "graph = {\n",
    "    'A': ['B','E'],\n",
    "    'B': ['C','D'],\n",
    "    'C': ['C'],\n",
    "    'D': ['D'],\n",
    "    'E': ['F','G'],\n",
    "    'F': ['F'],\n",
    "    'G': ['G'],\n",
    "}\n",
    "\n",
    "def bfs(graph,start,goal):\n",
    "    visited = []\n",
    "    queue = [(start,[])]\n",
    "\n",
    "    while queue:\n",
    "        node,path = queue.pop(0)\n",
    "        print(f\"Current node: {node},Path: {path + [node]}\")\n",
    "\n",
    "        if node == goal: return path + [node]\n",
    "\n",
    "        if node not in visited: visited.append(node)\n",
    "\n",
    "        for neighbour in graph[node]:\n",
    "            queue.append((neighbour,path + [node]))\n",
    "\n",
    "    print(\"Goal not found\")\n",
    "    return None\n",
    "\n",
    "start_node = 'A'\n",
    "goal_node = 'G'\n",
    "result = bfs(graph,start_node,goal_node)\n",
    "if result:\n",
    "    print(\"Path found:\",result)\n",
    "else:\n",
    "    print(\"No path found.\")"
   ]
  },
  {
   "cell_type": "code",
   "execution_count": 6,
   "metadata": {
    "tags": [
     "Exercise 3"
    ]
   },
   "outputs": [
    {
     "name": "stdout",
     "output_type": "stream",
     "text": [
      "Current node: B,Path: ['B']\n",
      "Current node: C,Path: ['B', 'C']\n",
      "Path found: ['B', 'C']\n"
     ]
    }
   ],
   "source": [
    "graph = {\n",
    "    'A': ['B','E'],\n",
    "    'B': ['C','D'],\n",
    "    'C': ['C'],\n",
    "    'D': ['D'],\n",
    "    'E': ['F','G'],\n",
    "    'F': ['F'],\n",
    "    'G': ['G'],\n",
    "}\n",
    "\n",
    "def bfs(graph,start,goal):\n",
    "    visited = []\n",
    "    queue = [(start,[])]\n",
    "\n",
    "    while queue:\n",
    "        node,path = queue.pop(0)\n",
    "        print(f\"Current node: {node},Path: {path + [node]}\")\n",
    "\n",
    "        if node == goal: return path + [node]\n",
    "\n",
    "        if node not in visited: visited.append(node)\n",
    "\n",
    "        for neighbour in graph[node]:\n",
    "            queue.append((neighbour,path + [node]))\n",
    "\n",
    "    print(\"Goal not found\")\n",
    "    return None\n",
    "\n",
    "start_node = 'B'\n",
    "goal_node = 'C'\n",
    "result = bfs(graph,start_node,goal_node)\n",
    "if result:\n",
    "    print(\"Path found:\",result)\n",
    "else:\n",
    "    print(\"No path found.\")"
   ]
  },
  {
   "cell_type": "code",
   "execution_count": 14,
   "metadata": {
    "tags": [
     "Exercise 4"
    ]
   },
   "outputs": [
    {
     "name": "stdout",
     "output_type": "stream",
     "text": [
      "Current node: A,Path: ['A']\n",
      "Current node: B,Path: ['A', 'B']\n",
      "Current node: C,Path: ['A', 'C']\n",
      "Current node: D,Path: ['A', 'B', 'D']\n",
      "Current node: E,Path: ['A', 'B', 'E']\n",
      "Path found: ['A', 'B', 'E']\n"
     ]
    }
   ],
   "source": [
    "graph = {\n",
    "    'A': ['B','C'],\n",
    "    'B': ['D','E'],\n",
    "    'D': ['G'],\n",
    "    'E': ['E'],\n",
    "    'G': ['H'],\n",
    "    'H': ['F'],\n",
    "    'C': ['F'],\n",
    "    'F': ['E'],\n",
    "}\n",
    "\n",
    "def bfs(graph,start,goal):\n",
    "    visited = []\n",
    "    queue = [(start,[])]\n",
    "\n",
    "    while queue:\n",
    "        node,path = queue.pop(0)\n",
    "        print(f\"Current node: {node},Path: {path + [node]}\")\n",
    "\n",
    "        if node == goal: return path + [node]\n",
    "\n",
    "        if node not in visited: visited.append(node)\n",
    "\n",
    "        for neighbour in graph[node]:\n",
    "            queue.append((neighbour,path + [node]))\n",
    "\n",
    "    print(\"Goal not found\")\n",
    "    return None\n",
    "\n",
    "start_node = 'A'\n",
    "goal_node = 'E'\n",
    "result = bfs(graph,start_node,goal_node)\n",
    "if result:\n",
    "    print(\"Path found:\",result)\n",
    "else:\n",
    "    print(\"No path found.\")"
   ]
  },
  {
   "cell_type": "code",
   "execution_count": 13,
   "metadata": {
    "tags": [
     "Exercise 5"
    ]
   },
   "outputs": [
    {
     "name": "stdout",
     "output_type": "stream",
     "text": [
      "Current node: A,Path: ['A']\n",
      "Current node: B,Path: ['A', 'B']\n",
      "Current node: C,Path: ['A', 'C']\n",
      "Current node: D,Path: ['A', 'B', 'D']\n",
      "Current node: E,Path: ['A', 'B', 'E']\n",
      "Current node: F,Path: ['A', 'C', 'F']\n",
      "Current node: G,Path: ['A', 'B', 'D', 'G']\n",
      "Current node: E,Path: ['A', 'B', 'E', 'E']\n",
      "Current node: E,Path: ['A', 'C', 'F', 'E']\n",
      "Current node: H,Path: ['A', 'B', 'D', 'G', 'H']\n",
      "Path found: ['A', 'B', 'D', 'G', 'H']\n"
     ]
    }
   ],
   "source": [
    "graph = {\n",
    "    'A': ['B','C'],\n",
    "    'B': ['D','E'],\n",
    "    'D': ['G'],\n",
    "    'E': ['E'],\n",
    "    'G': ['H'],\n",
    "    'H': ['F'],\n",
    "    'C': ['F'],\n",
    "    'F': ['E'],\n",
    "}\n",
    "\n",
    "def bfs(graph,start,goal):\n",
    "    visited = []\n",
    "    queue = [(start,[])]\n",
    "\n",
    "    while queue:\n",
    "        node,path = queue.pop(0)\n",
    "        print(f\"Current node: {node},Path: {path + [node]}\")\n",
    "\n",
    "        if node == goal: return path + [node]\n",
    "\n",
    "        if node not in visited: visited.append(node)\n",
    "\n",
    "        for neighbour in graph[node]:\n",
    "            queue.append((neighbour,path + [node]))\n",
    "\n",
    "    print(\"Goal not found\")\n",
    "    return None\n",
    "\n",
    "start_node = 'A'\n",
    "goal_node = 'H'\n",
    "result = bfs(graph,start_node,goal_node)\n",
    "if result:\n",
    "    print(\"Path found:\",result)\n",
    "else:\n",
    "    print(\"No path found.\")"
   ]
  },
  {
   "cell_type": "code",
   "execution_count": 15,
   "metadata": {
    "tags": [
     "Exercise 6"
    ]
   },
   "outputs": [
    {
     "name": "stdout",
     "output_type": "stream",
     "text": [
      "Current node: A,Path: ['A']\n",
      "Current node: B,Path: ['A', 'B']\n",
      "Current node: C,Path: ['A', 'B', 'C']\n",
      "Current node: C,Path: ['A', 'B', 'C', 'C']\n",
      "Current node: D,Path: ['A', 'B', 'D']\n",
      "Current node: D,Path: ['A', 'B', 'D', 'D']\n",
      "Current node: E,Path: ['A', 'E']\n",
      "Current node: F,Path: ['A', 'E', 'F']\n",
      "Path found: ['A', 'E', 'F']\n"
     ]
    }
   ],
   "source": [
    "graph = {\n",
    "    'A': ['B','E'],\n",
    "    'B': ['C','D'],\n",
    "    'C': ['C'],\n",
    "    'D': ['D'],\n",
    "    'E': ['F','G'],\n",
    "    'F': ['F'],\n",
    "    'G': ['G'],\n",
    "}\n",
    "\n",
    "def bfs(graph,start,goal):\n",
    "    visited = []\n",
    "    stack = [(start,[])]\n",
    "\n",
    "    while stack:\n",
    "        node,path = stack.pop()\n",
    "        print(f\"Current node: {node},Path: {path + [node]}\")\n",
    "\n",
    "        if node == goal: \n",
    "            return path + [node]\n",
    "\n",
    "        if node not in visited: \n",
    "            visited.append(node)\n",
    "            for neighbour in reversed(graph[node]):\n",
    "                stack.append((neighbour, path + [node]))   \n",
    "    \n",
    "    print(\"Goal not found\")\n",
    "    return None\n",
    "\n",
    "start_node = 'A'\n",
    "goal_node = 'F'\n",
    "result = bfs(graph,start_node,goal_node)\n",
    "if result:\n",
    "    print(\"Path found:\",result)\n",
    "else:\n",
    "    print(\"No path found.\")"
   ]
  },
  {
   "cell_type": "code",
   "execution_count": 19,
   "metadata": {},
   "outputs": [
    {
     "name": "stdout",
     "output_type": "stream",
     "text": [
      "Current node: A,Path: ['A']\n",
      "Current node: B,Path: ['A', 'B']\n",
      "Current node: C,Path: ['A', 'B', 'C']\n",
      "Current node: C,Path: ['A', 'B', 'C', 'C']\n",
      "Current node: D,Path: ['A', 'B', 'D']\n",
      "Current node: D,Path: ['A', 'B', 'D', 'D']\n",
      "Current node: E,Path: ['A', 'E']\n",
      "Path found: ['A', 'E']\n"
     ]
    }
   ],
   "source": [
    "graph = {\n",
    "    'A': ['B','E'],\n",
    "    'B': ['C','D'],\n",
    "    'C': ['C'],\n",
    "    'D': ['D'],\n",
    "    'E': ['F','G'],\n",
    "    'F': ['F'],\n",
    "    'G': ['G'],\n",
    "}\n",
    "\n",
    "def bfs(graph,start,goal):\n",
    "    visited = []\n",
    "    stack = [(start, [])]\n",
    "\n",
    "    while stack:\n",
    "        node,path = stack.pop()\n",
    "        print(f\"Current node: {node},Path: {path + [node]}\")\n",
    "\n",
    "        if node == goal: \n",
    "            return path + [node]\n",
    "\n",
    "        if node not in visited: \n",
    "            visited.append(node)\n",
    "            for neighbour in reversed(graph[node]):\n",
    "                stack.append((neighbour, path + [node]))   \n",
    "    \n",
    "    print(\"Goal not found\")\n",
    "    return None\n",
    "\n",
    "start_node = 'A'\n",
    "goal_node = 'E'\n",
    "result = bfs(graph,start_node,goal_node)\n",
    "if result:\n",
    "    print(\"Path found:\",result)\n",
    "else:\n",
    "    print(\"No path found.\")"
   ]
  },
  {
   "cell_type": "code",
   "execution_count": 20,
   "metadata": {
    "tags": [
     "Exercise 7"
    ]
   },
   "outputs": [
    {
     "name": "stdout",
     "output_type": "stream",
     "text": [
      "Current node: A,Path: ['A']\n",
      "Current node: B,Path: ['A', 'B']\n",
      "Current node: D,Path: ['A', 'B', 'D']\n",
      "Current node: G,Path: ['A', 'B', 'D', 'G']\n",
      "Current node: H,Path: ['A', 'B', 'D', 'G', 'H']\n",
      "Current node: F,Path: ['A', 'B', 'D', 'G', 'H', 'F']\n",
      "Current node: E,Path: ['A', 'B', 'D', 'G', 'H', 'F', 'E']\n",
      "Path found: ['A', 'B', 'D', 'G', 'H', 'F', 'E']\n"
     ]
    }
   ],
   "source": [
    "graph = {\n",
    "    'A': ['B','C'],\n",
    "    'B': ['D','E'],\n",
    "    'D': ['G'],\n",
    "    'E': ['E'],\n",
    "    'G': ['H'],\n",
    "    'H': ['F'],\n",
    "    'C': ['F'],\n",
    "    'F': ['E'],\n",
    "}\n",
    "\n",
    "def bfs(graph,start,goal):\n",
    "    visited = []\n",
    "    stack = [(start, [])]\n",
    "\n",
    "    while stack:\n",
    "        node,path = stack.pop()\n",
    "        print(f\"Current node: {node},Path: {path + [node]}\")\n",
    "\n",
    "        if node == goal: \n",
    "            return path + [node]\n",
    "\n",
    "        if node not in visited: \n",
    "            visited.append(node)\n",
    "            for neighbour in reversed(graph[node]):\n",
    "                stack.append((neighbour, path + [node]))   \n",
    "    \n",
    "    print(\"Goal not found\")\n",
    "    return None\n",
    "\n",
    "start_node = 'A'\n",
    "goal_node = 'E'\n",
    "result = bfs(graph,start_node,goal_node)\n",
    "if result:\n",
    "    print(\"Path found:\",result)\n",
    "else:\n",
    "    print(\"No path found.\")"
   ]
  },
  {
   "cell_type": "code",
   "execution_count": 22,
   "metadata": {
    "tags": [
     "Exercise 8"
    ]
   },
   "outputs": [
    {
     "name": "stdout",
     "output_type": "stream",
     "text": [
      "Current node: A,Path: ['A']\n",
      "Current node: B,Path: ['A', 'B']\n",
      "Current node: D,Path: ['A', 'B', 'D']\n",
      "Current node: G,Path: ['A', 'B', 'D', 'G']\n",
      "Current node: H,Path: ['A', 'B', 'D', 'G', 'H']\n",
      "Current node: F,Path: ['A', 'B', 'D', 'G', 'H', 'F']\n",
      "Current node: E,Path: ['A', 'B', 'D', 'G', 'H', 'F', 'E']\n",
      "Current node: E,Path: ['A', 'B', 'D', 'G', 'H', 'F', 'E', 'E']\n",
      "Current node: E,Path: ['A', 'B', 'E']\n",
      "Current node: C,Path: ['A', 'C']\n",
      "Path found: ['A', 'C']\n"
     ]
    }
   ],
   "source": [
    "graph = {\n",
    "    'A': ['B','C'],\n",
    "    'B': ['D','E'],\n",
    "    'D': ['G'],\n",
    "    'E': ['E'],\n",
    "    'G': ['H'],\n",
    "    'H': ['F'],\n",
    "    'C': ['F'],\n",
    "    'F': ['E'],\n",
    "}\n",
    "\n",
    "def bfs(graph,start,goal):\n",
    "    visited = []\n",
    "    stack = [(start, [])]\n",
    "\n",
    "    while stack:\n",
    "        node,path = stack.pop()\n",
    "        print(f\"Current node: {node},Path: {path + [node]}\")\n",
    "\n",
    "        if node == goal: \n",
    "            return path + [node]\n",
    "\n",
    "        if node not in visited: \n",
    "            visited.append(node)\n",
    "            for neighbour in reversed(graph[node]):\n",
    "                stack.append((neighbour, path + [node]))   \n",
    "    \n",
    "    print(\"Goal not found\")\n",
    "    return None\n",
    "\n",
    "start_node = 'A'\n",
    "goal_node = 'C'\n",
    "result = bfs(graph,start_node,goal_node)\n",
    "if result:\n",
    "    print(\"Path found:\",result)\n",
    "else:\n",
    "    print(\"No path found.\")"
   ]
  },
  {
   "cell_type": "code",
   "execution_count": 26,
   "metadata": {
    "tags": [
     "Exercise 10"
    ]
   },
   "outputs": [
    {
     "name": "stdout",
     "output_type": "stream",
     "text": [
      "Current node: A,Path: ['A']\n",
      "Current node: B,Path: ['A', 'B']\n",
      "Current node: E,Path: ['A', 'E']\n",
      "Current node: C,Path: ['A', 'B', 'C']\n",
      "Current node: D,Path: ['A', 'B', 'D']\n",
      "Current node: F,Path: ['A', 'E', 'F']\n",
      "Current node: G,Path: ['A', 'E', 'G']\n",
      "Path found: ['A', 'E', 'G']\n"
     ]
    }
   ],
   "source": [
    "graph = {\n",
    "    'A': ['B','E'],\n",
    "    'B': ['C','D'],\n",
    "    'E': ['F','G'],\n",
    "    'C': ['C'],\n",
    "    'D': ['D'],\n",
    "    'F': ['F'],\n",
    "    'G': ['G'],\n",
    "}\n",
    "\n",
    "def dls(graph,start,goal,limit):\n",
    "    visited = []\n",
    "    stack = [(start,[],0)]\n",
    "\n",
    "    while stack:\n",
    "        node,path,depth = stack.pop()\n",
    "        print(f\"Current node: {node},Path: {path + [node]},Depth:{depth}\")\n",
    "\n",
    "        if node == goal: \n",
    "            return path + [node]\n",
    "\n",
    "        if node not in visited: \n",
    "            visited.append(node)\n",
    "\n",
    "            if depth < limit:\n",
    "\n",
    "                for neighbour in reversed(graph[node]):\n",
    "                    stack.append((neighbour,path + [node],depth + 1))\n",
    "\n",
    "    print(f\"Goal not found within depth limit {limit}\")\n",
    "    return None\n",
    "\n",
    "start_node = 'A'\n",
    "goal_node = 'G'\n",
    "result = bfs(graph,start_node,goal_node)\n",
    "if result:\n",
    "    print(\"Path found:\",result)\n",
    "else:\n",
    "    print(\"No path found.\")"
   ]
  },
  {
   "cell_type": "code",
   "execution_count": 34,
   "metadata": {
    "tags": [
     "Exercise 11/12"
    ]
   },
   "outputs": [
    {
     "name": "stdout",
     "output_type": "stream",
     "text": [
      "Current node: A,Path: ['A']\n",
      "Current node: B,Path: ['A', 'B']\n",
      "Current node: C,Path: ['A', 'C']\n",
      "Current node: D,Path: ['A', 'B', 'D']\n",
      "Current node: E,Path: ['A', 'B', 'E']\n",
      "Current node: F,Path: ['A', 'C', 'F']\n",
      "Path found: ['A', 'C', 'F']\n"
     ]
    }
   ],
   "source": [
    "graph = {\n",
    "    'A': ['B','C'],\n",
    "    'B': ['D','E'],\n",
    "    'E': ['E'],\n",
    "    'C': ['F'],\n",
    "    'D': ['G'],\n",
    "    'G': ['H'],\n",
    "    'H': ['F'],\n",
    "    'F': ['E'],\n",
    "}\n",
    "\n",
    "def dls(graph,start,goal,limit):\n",
    "    visited = []\n",
    "    stack = [(start,[],0)]\n",
    "\n",
    "    while stack:\n",
    "        node,path,depth = stack.pop()\n",
    "        print(f\"Current node: {node},Path: {path + [node]},Depth:{depth}\")\n",
    "\n",
    "        if node == goal: \n",
    "            return path + [node]\n",
    "\n",
    "        if node not in visited: \n",
    "            visited.append(node)\n",
    "\n",
    "            if depth < limit:\n",
    "\n",
    "                for neighbour in reversed(graph[node]):\n",
    "                    stack.append((neighbour,path + [node],depth + 1))\n",
    "\n",
    "    print(f\"Goal not found within depth limit {limit}\")\n",
    "    return None\n",
    "\n",
    "start_node = 'A'\n",
    "goal_node = 'F'\n",
    "result = bfs(graph,start_node,goal_node)\n",
    "if result:\n",
    "    print(\"Path found:\",result)\n",
    "else:\n",
    "    print(\"No path found.\")"
   ]
  }
 ],
 "metadata": {
  "kernelspec": {
   "display_name": "base",
   "language": "python",
   "name": "python3"
  },
  "language_info": {
   "codemirror_mode": {
    "name": "ipython",
    "version": 3
   },
   "file_extension": ".py",
   "mimetype": "text/x-python",
   "name": "python",
   "nbconvert_exporter": "python",
   "pygments_lexer": "ipython3",
   "version": "3.12.4"
  }
 },
 "nbformat": 4,
 "nbformat_minor": 2
}
